{
 "cells": [
  {
   "cell_type": "code",
   "execution_count": null,
   "metadata": {},
   "outputs": [],
   "source": []
  },
  {
   "cell_type": "markdown",
   "metadata": {},
   "source": [
    "Some notes\n",
    "Initial dimensions:23x11056"
   ]
  },
  {
   "cell_type": "markdown",
   "metadata": {},
   "source": [
    "### DATASET COLUMNS\n",
    "- **PLAYER NAME:** Name of the player.\n",
    "- **PLAYER TEAM:** The team to which the player belongs.\n",
    "- **PLAYER POSITION:** Position played by the player (e.g., quarterback, running back, wide receiver).\n",
    "- **LOC:** Location of the game (home or away).\n",
    "- **OPP:** Opponent team.\n",
    "- **STATUS:** Player's status (e.g., active, injured).\n",
    "- **PROJ:** Projected performance.\n",
    "- **PASSING C/A:** Passing completions/attempts.\n",
    "- **PASSING YDS:** Passing yards.\n",
    "- **PASSING TD:** Passing touchdowns.\n",
    "- **PASSING INT:** Passing interceptions.\n",
    "- **RUSHING CAR:** Rushing attempts.\n",
    "- **RUSHING YDS:** Rushing yards.\n",
    "- **RUSHING TD:** Rushing touchdowns.\n",
    "- **RECEIVING REC:** Receptions.\n",
    "- **RECEIVING YDS:** Receiving yards.\n",
    "- **RECEIVING TD:** Receiving touchdowns.\n",
    "- **RECEIVING TAR:** Receiving targets.\n",
    "- **MISC 2PC:** Miscellaneous 2-point conversions.\n",
    "- **MISC FUML:** Miscellaneous fumbles.\n",
    "- **MISC TD:** Miscellaneous touchdowns.\n",
    "- **TOTAL:** Overall total or combined score.\n"
   ]
  },
  {
   "cell_type": "markdown",
   "metadata": {},
   "source": [
    "### POINT CALCULATION\n",
    "**Quarterback (QB):**\n",
    "- **Passing Points:**\n",
    "  - Passing Points = (Passing Yards / Yardage Points) + (Passing Touchdowns * Touchdown Points) - (Interceptions * Interception Points)\n",
    "\n",
    "**Running Back (RB):**\n",
    "- **Rushing Points:**\n",
    "  - Rushing Points = (Rushing Yards / Rushing Yardage Points) + (Rushing Touchdowns * Touchdown Points)\n",
    "- **Receiving Points:**\n",
    "  - Receiving Points = (Receptions * Reception Points) + (Receiving Yards / Receiving Yardage Points) + (Receiving Touchdowns * Touchdown Points)\n",
    "- **Total Points for RB:**\n",
    "  - Total Points = Rushing Points + Receiving Points\n",
    "\n",
    "**Wide Receiver (WR):**\n",
    "- **Receiving Points:**\n",
    "  - Receiving Points = (Receptions * Reception Points) + (Receiving Yards / Receiving Yardage Points) + (Receiving Touchdowns * Touchdown Points)\n",
    "\n",
    "**Tight End (TE):**\n",
    "- **Receiving Points:**\n",
    "  - Receiving Points = (Receptions * Reception Points) + (Receiving Yards / Receiving Yardage Points) + (Receiving Touchdowns * Touchdown Points)\n"
   ]
  }
 ],
 "metadata": {
  "language_info": {
   "name": "python"
  }
 },
 "nbformat": 4,
 "nbformat_minor": 2
}
