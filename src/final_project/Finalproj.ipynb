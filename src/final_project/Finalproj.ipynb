{
 "cells": [
  {
   "cell_type": "code",
   "execution_count": null,
   "metadata": {},
   "outputs": [],
   "source": []
  },
  {
   "cell_type": "markdown",
   "metadata": {},
   "source": [
    "### DATASET COLUMNS\n",
    "- **PLAYER NAME:** Name of the player.\n",
    "- **PLAYER TEAM:** The team to which the player belongs.\n",
    "- **PLAYER POSITION:** Position played by the player (e.g., quarterback, running back, wide receiver).\n",
    "- **LOC:** Location of the game (home or away).\n",
    "- **OPP:** Opponent team.\n",
    "- **STATUS:** Player's status (e.g., active, injured).\n",
    "- **PROJ:** Projected performance.\n",
    "- **PASSING C/A:** Passing completions/attempts.\n",
    "- **PASSING YDS:** Passing yards.\n",
    "- **PASSING TD:** Passing touchdowns.\n",
    "- **PASSING INT:** Passing interceptions.\n",
    "- **RUSHING CAR:** Rushing attempts.\n",
    "- **RUSHING YDS:** Rushing yards.\n",
    "- **RUSHING TD:** Rushing touchdowns.\n",
    "- **RECEIVING REC:** Receptions.\n",
    "- **RECEIVING YDS:** Receiving yards.\n",
    "- **RECEIVING TD:** Receiving touchdowns.\n",
    "- **RECEIVING TAR:** Receiving targets.\n",
    "- **MISC 2PC:** Miscellaneous 2-point conversions.\n",
    "- **MISC FUML:** Miscellaneous fumbles.\n",
    "- **MISC TD:** Miscellaneous touchdowns.\n",
    "- **TOTAL:** Overall total or combined score.\n"
   ]
  },
  {
   "cell_type": "markdown",
   "metadata": {},
   "source": [
    "### POINT CALCULATION\n",
    "**Quarterback (QB):**\n",
    "- **Passing Points:**\n",
    "  - Passing Points = (Passing Yards / Yardage Points) + (Passing Touchdowns * Touchdown Points) - (Interceptions * Interception Points)\n",
    "\n",
    "**Running Back (RB):**\n",
    "- **Rushing Points:**\n",
    "  - Rushing Points = (Rushing Yards / Rushing Yardage Points) + (Rushing Touchdowns * Touchdown Points)\n",
    "- **Receiving Points:**\n",
    "  - Receiving Points = (Receptions * Reception Points) + (Receiving Yards / Receiving Yardage Points) + (Receiving Touchdowns * Touchdown Points)\n",
    "- **Total Points for RB:**\n",
    "  - Total Points = Rushing Points + Receiving Points\n",
    "\n",
    "**Wide Receiver (WR):**\n",
    "- **Receiving Points:**\n",
    "  - Receiving Points = (Receptions * Reception Points) + (Receiving Yards / Receiving Yardage Points) + (Receiving Touchdowns * Touchdown Points)\n",
    "\n",
    "**Tight End (TE):**\n",
    "- **Receiving Points:**\n",
    "  - Receiving Points = (Receptions * Reception Points) + (Receiving Yards / Receiving Yardage Points) + (Receiving Touchdowns * Touchdown Points)\n"
   ]
  },
  {
   "cell_type": "markdown",
   "metadata": {},
   "source": [
    "## Data Cleaning\n",
    "\n",
    "The following process cleans out all empty datapoints"
   ]
  },
  {
   "cell_type": "code",
   "execution_count": 4,
   "metadata": {},
   "outputs": [
    {
     "name": "stdout",
     "output_type": "stream",
     "text": [
      "Number of rows before cleaning: 11055\n",
      "Number of columns before cleaning: 22\n",
      "\n",
      "Number of rows after cleaning: 4233\n",
      "Number of columns after cleaning: 22\n"
     ]
    }
   ],
   "source": [
    "import pandas as pd\n",
    "\n",
    "# Define the file path\n",
    "file_path = r'C:\\Users\\admin\\Desktop\\MEMT680\\final_project\\src\\final_project\\FantasyFootballWeekly.csv'\n",
    "\n",
    "# Read the CSV file into a pandas DataFrame\n",
    "df_before_cleaning = pd.read_csv(file_path)\n",
    "\n",
    "# Display the number of rows and columns before cleaning\n",
    "print(\"Number of rows before cleaning:\", df_before_cleaning.shape[0])\n",
    "print(\"Number of columns before cleaning:\", df_before_cleaning.shape[1])\n",
    "\n",
    "# Replace \"--\" with NaN and drop rows containing NaN\n",
    "df_before_cleaning.replace(\"--\", pd.NA, inplace=True)\n",
    "df_before_cleaning.dropna(inplace=True)\n",
    "\n",
    "# Display the number of rows and columns after cleaning\n",
    "print(\"\\nNumber of rows after cleaning:\", df_before_cleaning.shape[0])\n",
    "print(\"Number of columns after cleaning:\", df_before_cleaning.shape[1])\n",
    "\n",
    "# Save the cleaned DataFrame back to a CSV file\n",
    "cleaned_file_path = r'C:\\Users\\admin\\Desktop\\MEMT680\\final_project\\src\\final_project\\CleanedFantasyFootballWeekly.csv'\n",
    "df_before_cleaning.to_csv(cleaned_file_path, index=False)\n",
    "\n"
   ]
  },
  {
   "cell_type": "markdown",
   "metadata": {},
   "source": [
    "### Supervised Machine Learning"
   ]
  },
  {
   "cell_type": "code",
   "execution_count": null,
   "metadata": {},
   "outputs": [],
   "source": []
  }
 ],
 "metadata": {
  "kernelspec": {
   "display_name": "base",
   "language": "python",
   "name": "python3"
  },
  "language_info": {
   "codemirror_mode": {
    "name": "ipython",
    "version": 3
   },
   "file_extension": ".py",
   "mimetype": "text/x-python",
   "name": "python",
   "nbconvert_exporter": "python",
   "pygments_lexer": "ipython3",
   "version": "3.11.5"
  }
 },
 "nbformat": 4,
 "nbformat_minor": 2
}
